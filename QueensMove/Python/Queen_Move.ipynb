{
 "cells": [
  {
   "cell_type": "code",
   "execution_count": 1,
   "metadata": {
    "collapsed": false
   },
   "outputs": [
    {
     "name": "stdout",
     "output_type": "stream",
     "text": [
      "856842\n"
     ]
    }
   ],
   "source": [
    "# Initializing\n",
    "from PIL import Image\n",
    "import pickle\n",
    "import math\n",
    "\n",
    "phi = 1.618033988749894\n",
    "nimbers = {\n",
    "    \"[0, 0]\": 0\n",
    "}\n",
    "try:\n",
    "    nimbers = pickle.load(open(\"./queennimbers\", \"rb\"))\n",
    "except FileNotFoundError:\n",
    "    nimbers = {\n",
    "        \"[0, 0]\": 0\n",
    "    }\n",
    "    pickle.dump(nimbers, open(\"./queennimbers\", \"wb\"))\n",
    "print(len(nimbers))\n",
    "\n",
    "\n",
    "def strToList(foo):\n",
    "    result = []\n",
    "    numb = \"\"\n",
    "    for letter in range(len(foo)):\n",
    "        if foo[letter] == \",\" or foo[letter] == \"]\":\n",
    "            result.append(int(numb))\n",
    "            numb = \"\"\n",
    "            continue\n",
    "        elif not foo[letter] == \" \" and not foo[letter] == \"[\":\n",
    "            numb = numb + foo[letter]\n",
    "    return result"
   ]
  },
  {
   "cell_type": "code",
   "execution_count": 2,
   "metadata": {},
   "outputs": [],
   "source": [
    "def findNimber(board, findWin):\n",
    "    try:\n",
    "        if not findWin:\n",
    "            return nimbers[str(board)]\n",
    "        else:\n",
    "            return nimbers[\"doesn't exist\"]\n",
    "    except KeyError:\n",
    "        for over in range(1, board[0]+1):\n",
    "            if findNimber([board[0]-over, board[1]], False) == 0:\n",
    "                nimbers[str(board)] = 1\n",
    "                nimbers[str([board[1], board[0]])] = 1\n",
    "                return 1\n",
    "        for diagonal in range(1, min(board[0], board[1])+1):\n",
    "            if findNimber([board[0]-diagonal, board[1]-diagonal], False) == 0:\n",
    "                nimbers[str(board)] = 1\n",
    "                nimbers[str([board[1], board[0]])] = 1\n",
    "                return 1\n",
    "        for up in range(1, board[1]+1):\n",
    "            if findNimber([board[0], board[1]-up], False) == 0:\n",
    "                nimbers[str(board)] = 1\n",
    "                nimbers[str([board[1], board[0]])] = 1\n",
    "                return 1\n",
    "        nimbers[str(board)] = 0\n",
    "        nimbers[str([board[1], board[0]])] = 0\n",
    "        return 0"
   ]
  },
  {
   "cell_type": "code",
   "execution_count": 3,
   "metadata": {},
   "outputs": [
    {
     "name": "stdout",
     "output_type": "stream",
     "text": [
      "1\n"
     ]
    }
   ],
   "source": [
    "print(findNimber([1000, 1000], False))\n",
    "pickle.dump(nimbers, open(\"./queennimbers\", \"wb\"))"
   ]
  },
  {
   "cell_type": "code",
   "execution_count": 4,
   "metadata": {},
   "outputs": [],
   "source": [
    "def ratioCalculator(upto):\n",
    "    zeroes = 0\n",
    "    lastKeyX = 0\n",
    "    oneOrTwo = [0, 0, 0]\n",
    "    for key in nimbers:\n",
    "        if nimbers[key] == 0 and strToList(key)[0] < strToList(key)[1]:\n",
    "            # if strToList(key)[0]-lastKeyX == 1:\n",
    "                # print(strToList(key)[1]-strToList(key)[0])\n",
    "            oneOrTwo[strToList(key)[0]-lastKeyX] += 1\n",
    "            # print(strToList(key)[0]-lastKeyX)\n",
    "            oneOrTwo[0] = strToList(key)[0]-lastKeyX\n",
    "            lastKeyX = strToList(key)[0]\n",
    "            zeroes += 1\n",
    "            if strToList(key)[0] > upto:\n",
    "                break\n",
    "    return oneOrTwo\n",
    "# print(oneOrTwo[2]/oneOrTwo[1])\n",
    "# print(oneOrTwo)\n",
    "# print(zeroes)"
   ]
  },
  {
   "cell_type": "code",
   "execution_count": 5,
   "metadata": {},
   "outputs": [
    {
     "name": "stdout",
     "output_type": "stream",
     "text": [
      "[1, 2, 1]\n"
     ]
    }
   ],
   "source": [
    "print(ratioCalculator(3))"
   ]
  },
  {
   "cell_type": "code",
   "execution_count": 6,
   "metadata": {
    "collapsed": true
   },
   "outputs": [
    {
     "name": "stdout",
     "output_type": "stream",
     "text": [
      "382\n"
     ]
    }
   ],
   "source": [
    "# graph 12 ratio\n",
    "dim = 10\n",
    "for key in nimbers:\n",
    "    if nimbers[key] == 0 and strToList(key)[0] < strToList(key)[1]:\n",
    "        dim += 1\n",
    "print(dim-10)\n",
    "\n",
    "bitmap = Image.new(\"RGB\", (dim, dim), \"white\")\n",
    "pix = bitmap.load()\n",
    "\n",
    "tracker = 0\n",
    "for nimb in nimbers:\n",
    "    if nimbers[nimb] == 0 and strToList(nimb)[0] < strToList(nimb)[1]:\n",
    "        specificRatio = ratioCalculator(strToList(nimb)[0])\n",
    "        specificRatio = specificRatio[2]/specificRatio[1]\n",
    "        # print(specificRatio)\n",
    "        pix[5+tracker, dim-(specificRatio*dim/2.5)] = (0, 0, 0)\n",
    "        tracker += 1\n",
    "        # if tracker > 500:\n",
    "        # br\n",
    "\n",
    "# for point in range(len(nimberNumber)):\n",
    "#     pix[point/8, dim-1-(nimberNumber[point]*(dim-10)/maxim)] = (0, 0, 0)\n",
    "    \n",
    "bitmap.show()"
   ]
  },
  {
   "cell_type": "code",
   "execution_count": 5,
   "metadata": {
    "collapsed": true
   },
   "outputs": [],
   "source": [
    "winList = [[0, 0]]\n",
    "for key in nimbers:\n",
    "    if nimbers[key] == 0 and strToList(key)[0] < strToList(key)[1]:\n",
    "        # print(key)\n",
    "        winList.append(strToList(key))"
   ]
  },
  {
   "cell_type": "code",
   "execution_count": 6,
   "metadata": {},
   "outputs": [
    {
     "name": "stdout",
     "output_type": "stream",
     "text": [
      "383\n"
     ]
    }
   ],
   "source": [
    "print(len(winList))"
   ]
  },
  {
   "cell_type": "code",
   "execution_count": 9,
   "metadata": {},
   "outputs": [],
   "source": [
    "# print winners\n",
    "\n",
    "upto = 53\n",
    "dims = 1000\n",
    "\n",
    "bitmap = Image.new(\"RGB\", (dims, dims), \"white\")\n",
    "pix = bitmap.load()\n",
    "\n",
    "for x in range(dims):\n",
    "    for y in range(dims):\n",
    "        for lose in winList:\n",
    "            if lose[0] > upto or lose[1] > upto:\n",
    "                break\n",
    "            elif math.floor(x*upto/dims) == lose[0] and math.floor(y*upto/dims) == lose[1]:\n",
    "                pix[x, y] = (0, 0, 0)\n",
    "            elif math.floor(y*upto/dims) == lose[0] and math.floor(x*upto/dims) == lose[1]:\n",
    "                pix[x, y] = (0, 0, 0)\n",
    "            elif (x*upto/dims)%1 < 0.1 or (y*upto/dims)%1 < 0.1:\n",
    "                pix[x, y] = (0, 0, 0)\n",
    "\n",
    "bitmap.show()"
   ]
  },
  {
   "cell_type": "code",
   "execution_count": 33,
   "metadata": {},
   "outputs": [],
   "source": [
    "# graph pair ratio\n",
    "dim = 10 + len(winList)\n",
    "\n",
    "bitmap = Image.new(\"RGB\", (dim, 2*dim), \"white\")\n",
    "pix = bitmap.load()\n",
    "\n",
    "for w in range(1, len(winList)):\n",
    "    specificRatio = winList[w][1]/winList[w][0]\n",
    "    pix[5+w, dim-(specificRatio*dim)] = (0, 0, 0)\n",
    "\n",
    "bitmap.show()"
   ]
  },
  {
   "cell_type": "code",
   "execution_count": 10,
   "metadata": {
    "collapsed": false
   },
   "outputs": [
    {
     "name": "stdout",
     "output_type": "stream",
     "text": [
      "0\n1\n2\n1\n2\n2\n1\n2\n1\n2\n2\n1\n2\n2\n1\n2\n1\n2\n2\n1\n2\n1\n2\n2\n1\n2\n2\n1\n2\n1\n2\n2\n1\n2\n2\n1\n2\n1\n2\n2\n1\n2\n1\n2\n2\n1\n2\n2\n1\n2\n1\n2\n2\n1\n2\n1\n2\n2\n1\n2\n2\n1\n2\n1\n2\n2\n1\n2\n2\n1\n2\n1\n2\n2\n1\n2\n1\n2\n2\n1\n2\n2\n1\n2\n1\n2\n2\n1\n2\n2\n1\n2\n1\n2\n2\n1\n2\n1\n2\n2\n1\n2\n2\n1\n2\n1\n2\n2\n1\n2\n1\n2\n2\n1\n2\n2\n1\n2\n1\n2\n2\n1\n2\n2\n1\n2\n1\n2\n2\n1\n2\n1\n2\n2\n1\n2\n2\n1\n2\n1\n2\n2\n1\n2\n1\n2\n2\n1\n2\n2\n1\n2\n1\n2\n2\n1\n2\n2\n1\n2\n1\n2\n2\n1\n2\n1\n2\n2\n1\n2\n2\n1\n2\n1\n2\n2\n1\n2\n2\n1\n2\n1\n2\n2\n1\n2\n1\n2\n2\n1\n2\n2\n1\n2\n1\n2\n2\n1\n2\n1\n2\n2\n1\n2\n2\n1\n2\n1\n2\n2\n1\n2\n2\n1\n2\n1\n2\n2\n1\n2\n1\n2\n2\n1\n2\n2\n1\n2\n1\n2\n2\n1\n2\n2\n1\n2\n1\n2\n2\n1\n2\n1\n2\n2\n1\n2\n2\n1\n2\n1\n2\n2\n1\n2\n1\n2\n2\n1\n2\n2\n1\n2\n1\n2\n2\n1\n2\n2\n1\n2\n1\n2\n2\n1\n2\n1\n2\n2\n1\n2\n2\n1\n2\n1\n2\n2\n1\n2\n1\n2\n2\n1\n2\n2\n1\n2\n1\n2\n2\n1\n2\n2\n1\n2\n1\n2\n2\n1\n2\n1\n2\n2\n1\n2\n2\n1\n2\n1\n2\n2\n1\n2\n2\n1\n2\n1\n2\n2\n1\n2\n1\n2\n2\n1\n2\n2\n1\n2\n1\n2\n2\n1\n2\n1\n2\n2\n1\n2\n2\n1\n2\n1\n2\n2\n1\n2\n2\n1\n2\n1\n2\n2\n1\n2\n1\n2\n2\n1\n2\n2\n1\n2\n1\n2\n2\n1\n2\n1\n2\n2\n1\n2\n2\n"
     ]
    }
   ],
   "source": [
    "lastX = 0\n",
    "for key in winList:\n",
    "    print(key[0]-lastX)\n",
    "    lastX = key[0]"
   ]
  },
  {
   "cell_type": "code",
   "execution_count": 6,
   "metadata": {
    "collapsed": true
   },
   "outputs": [
    {
     "name": "stdout",
     "output_type": "stream",
     "text": [
      "1\n2\n1\n2\n2\n1\n2\n1\n2\n2\n1\n2\n2\n1\n2\n1\n2\n2\n1\n2\n1\n2\n2\n1\n2\n2\n1\n2\n1\n2\n2\n"
     ]
    }
   ],
   "source": [
    "oneTwoSequence = [1]\n",
    "ones = 1\n",
    "twos = 0\n",
    "for ot in range(30):\n",
    "    if (twos+1)/ones>phi:\n",
    "        ones += 1\n",
    "        oneTwoSequence.append(1)\n",
    "    else:\n",
    "        twos += 1\n",
    "        oneTwoSequence.append(2)\n",
    "        \n",
    "for ot in oneTwoSequence:\n",
    "    print(ot)"
   ]
  },
  {
   "cell_type": "code",
   "execution_count": 7,
   "metadata": {
    "collapsed": false
   },
   "outputs": [
    {
     "name": "stdout",
     "output_type": "stream",
     "text": [
      "[1, 2]: 2.0\n[3, 5]: 1.6666666666666667\n[4, 7]: 1.75\n[6, 10]: 1.6666666666666667\n[7, 12]: 1.7142857142857142\n[8, 13]: 1.625\n[9, 15]: 1.6666666666666667\n[11, 18]: 1.6363636363636365\n[12, 20]: 1.6666666666666667\n[14, 23]: 1.6428571428571428\n[15, 25]: 1.6666666666666667\n[16, 26]: 1.625\n[17, 28]: 1.6470588235294117\n[19, 31]: 1.631578947368421\n[20, 33]: 1.65\n[21, 34]: 1.619047619047619\n[22, 36]: 1.6363636363636365\n[23, 38]: 1.6521739130434783\n[24, 39]: 1.625\n[25, 41]: 1.64\n[27, 44]: 1.6296296296296295\n[28, 46]: 1.6428571428571428\n[29, 47]: 1.6206896551724137\n[30, 49]: 1.6333333333333333\n[32, 52]: 1.625\n[33, 54]: 1.6363636363636365\n[35, 57]: 1.6285714285714286\n[36, 59]: 1.6388888888888888\n[37, 60]: 1.6216216216216217\n[38, 62]: 1.631578947368421\n[40, 65]: 1.625\n[41, 67]: 1.6341463414634145\n[42, 68]: 1.619047619047619\n[43, 70]: 1.627906976744186\n[45, 73]: 1.6222222222222222\n[46, 75]: 1.6304347826086956\n[48, 78]: 1.625\n[49, 80]: 1.6326530612244898\n[50, 81]: 1.62\n[51, 83]: 1.6274509803921569\n[53, 86]: 1.6226415094339623\n[54, 88]: 1.6296296296296295\n[55, 89]: 1.6181818181818182\n[56, 91]: 1.625\n[57, 93]: 1.631578947368421\n[58, 94]: 1.6206896551724137\n[59, 96]: 1.6271186440677967\n[61, 99]: 1.6229508196721312\n"
     ]
    }
   ],
   "source": [
    "pseudoWins = []\n",
    "for side in range(2, 100):\n",
    "    bestApprox = 100000\n",
    "    bestApproxPos = [0, side]\n",
    "    for a in range(1, side+1):\n",
    "        if abs(phi-side/a) < abs(phi-bestApprox):\n",
    "            bestApprox = side/a\n",
    "            bestApproxPos[0] = a\n",
    "    if bestApprox > phi:\n",
    "        print(str(bestApproxPos)+\": \"+str(bestApprox))\n",
    "        pseudoWins.append(bestApproxPos)"
   ]
  },
  {
   "cell_type": "code",
   "execution_count": 16,
   "metadata": {
    "collapsed": true
   },
   "outputs": [
    {
     "name": "stdout",
     "output_type": "stream",
     "text": [
      "12\n13\n8\n5\n8\n13\n8\n13\n8\n5\n"
     ]
    }
   ],
   "source": [
    "w = 1\n",
    "lastPseudoY = 0\n",
    "for p in range(len(pseudoWins)):\n",
    "    if not winList[w][0] == pseudoWins[p][0] or not winList[w][1] == pseudoWins[p][1]:\n",
    "        print(pseudoWins[p][1]-lastPseudoY)\n",
    "        lastPseudoY = pseudoWins[p][1]\n",
    "    else:\n",
    "        w += 1"
   ]
  },
  {
   "cell_type": "code",
   "execution_count": 24,
   "metadata": {},
   "outputs": [
    {
     "name": "stdout",
     "output_type": "stream",
     "text": [
      "[1, 2]: 2; 1.0; 2.0\n[3, 5]: 1; 0.5; 3.0\n[4, 7]: 2; 1.0; 2.0\n[6, 10]: 2; 1.5; 1.6666666666666667\n[8, 13]: 1; 1.0; 2.0\n[9, 15]: 2; 1.3333333333333333; 1.75\n[11, 18]: 1; 1.0; 2.0\n[12, 20]: 2; 1.25; 1.8\n[14, 23]: 2; 1.5; 1.6666666666666667\n[16, 26]: 1; 1.2; 1.8333333333333333\n[17, 28]: 2; 1.4; 1.7142857142857142\n[19, 31]: 2; 1.6; 1.625\n[21, 34]: 1; 1.3333333333333333; 1.75\n[22, 36]: 2; 1.5; 1.6666666666666667\n[24, 39]: 1; 1.2857142857142858; 1.7777777777777777\n[25, 41]: 2; 1.4285714285714286; 1.7\n[27, 44]: 2; 1.5714285714285714; 1.6363636363636365\n[29, 47]: 1; 1.375; 1.7272727272727273\n[30, 49]: 2; 1.5; 1.6666666666666667\n[32, 52]: 1; 1.3333333333333333; 1.75\n[33, 54]: 2; 1.4444444444444444; 1.6923076923076923\n[35, 57]: 2; 1.5555555555555556; 1.6428571428571428\n"
     ]
    },
    {
     "name": "stdout",
     "output_type": "stream",
     "text": [
      "[37, 60]: 1; 1.4; 1.7142857142857142\n[38, 62]: 2; 1.5; 1.6666666666666667\n[40, 65]: 2; 1.6; 1.625\n[42, 68]: 1; 1.4545454545454546; 1.6875\n[43, 70]: 2; 1.5454545454545454; 1.6470588235294117\n[45, 73]: 1; 1.4166666666666667; 1.7058823529411764\n[46, 75]: 2; 1.5; 1.6666666666666667\n[48, 78]: 2; 1.5833333333333333; 1.631578947368421\n[50, 81]: 1; 1.4615384615384615; 1.6842105263157894\n[51, 83]: 2; 1.5384615384615385; 1.65\n[53, 86]: 2; 1.6153846153846154; 1.619047619047619\n"
     ]
    },
    {
     "name": "stdout",
     "output_type": "stream",
     "text": [
      "[55, 89]: 1; 1.5; 1.6666666666666667\n[56, 91]: 2; 1.5714285714285714; 1.6363636363636365\n[58, 94]: 1; 1.4666666666666666; 1.6818181818181819\n[59, 96]: 2; 1.5333333333333334; 1.6521739130434783\n[61, 99]: 2; 1.6; 1.625\n[63, 102]: 1; 1.5; 1.6666666666666667\n[64, 104]: 2; 1.5625; 1.64\n[66, 107]: 1; 1.4705882352941178; 1.68\n[67, 109]: 2; 1.5294117647058822; 1.6538461538461537\n[69, 112]: 2; 1.588235294117647; 1.6296296296296295\n[71, 115]: 1; 1.5; 1.6666666666666667\n[72, 117]: 2; 1.5555555555555556; 1.6428571428571428\n[74, 120]: 2; 1.6111111111111112; 1.6206896551724137\n[76, 123]: 1; 1.5263157894736843; 1.6551724137931034\n"
     ]
    },
    {
     "name": "stdout",
     "output_type": "stream",
     "text": [
      "[77, 125]: 2; 1.5789473684210527; 1.6333333333333333\n[79, 128]: 1; 1.5; 1.6666666666666667\n[80, 130]: 2; 1.55; 1.6451612903225807\n[82, 133]: 2; 1.6; 1.625\n"
     ]
    }
   ],
   "source": [
    "tracker2 = 0\n",
    "for nimb in nimbers:\n",
    "    if nimbers[nimb] == 0 and strToList(nimb)[0] < strToList(nimb)[1]:\n",
    "        sRatio = ratioCalculator(strToList(nimb)[0])\n",
    "        print(nimb + \": \" + str(sRatio[0]) + \"; \" + str(sRatio[2]/sRatio[1]) + \"; \" + str((sRatio[2]+sRatio[1])/sRatio[2]))\n",
    "        tracker2 += 1\n",
    "    if tracker2 > 50:\n",
    "        break"
   ]
  },
  {
   "cell_type": "code",
   "execution_count": 15,
   "metadata": {},
   "outputs": [],
   "source": [
    "pseudoWins2 = []\n",
    "for i in range(382):\n",
    "    x = math.floor(i/phi)\n",
    "    answer = [x+i, i+i+x]\n",
    "    pseudoWins2.append(answer)"
   ]
  },
  {
   "cell_type": "code",
   "execution_count": 17,
   "metadata": {},
   "outputs": [
    {
     "name": "stdout",
     "output_type": "stream",
     "text": [
      "[0, 0]vs [0, 0]\n[1, 2]vs [1, 2]\n[3, 5]vs [3, 5]\n[4, 7]vs [4, 7]\n[6, 10]vs [6, 10]\n[8, 13]vs [8, 13]\n[9, 15]vs [9, 15]\n[11, 18]vs [11, 18]\n[12, 20]vs [12, 20]\n[14, 23]vs [14, 23]\n[16, 26]vs [16, 26]\n[17, 28]vs [17, 28]\n[19, 31]vs [19, 31]\n[21, 34]vs [21, 34]\n[22, 36]vs [22, 36]\n[24, 39]vs [24, 39]\n[25, 41]vs [25, 41]\n[27, 44]vs [27, 44]\n[29, 47]vs [29, 47]\n[30, 49]vs [30, 49]\n[32, 52]vs [32, 52]\n[33, 54]vs [33, 54]\n[35, 57]vs [35, 57]\n[37, 60]vs [37, 60]\n[38, 62]vs [38, 62]\n[40, 65]vs [40, 65]\n[42, 68]vs [42, 68]\n[43, 70]vs [43, 70]\n[45, 73]vs [45, 73]\n[46, 75]vs [46, 75]\n[48, 78]vs [48, 78]\n[50, 81]vs [50, 81]\n[51, 83]vs [51, 83]\n[53, 86]vs [53, 86]\n[55, 89]vs [55, 89]\n[56, 91]vs [56, 91]\n[58, 94]vs [58, 94]\n[59, 96]vs [59, 96]\n[61, 99]vs [61, 99]\n[63, 102]vs [63, 102]\n[64, 104]vs [64, 104]\n[66, 107]vs [66, 107]\n[67, 109]vs [67, 109]\n[69, 112]vs [69, 112]\n[71, 115]vs [71, 115]\n[72, 117]vs [72, 117]\n[74, 120]vs [74, 120]\n[76, 123]vs [76, 123]\n[77, 125]vs [77, 125]\n[79, 128]vs [79, 128]\n[80, 130]vs [80, 130]\n[82, 133]vs [82, 133]\n[84, 136]vs [84, 136]\n[85, 138]vs [85, 138]\n[87, 141]vs [87, 141]\n[88, 143]vs [88, 143]\n[90, 146]vs [90, 146]\n[92, 149]vs [92, 149]\n[93, 151]vs [93, 151]\n[95, 154]vs [95, 154]\n[97, 157]vs [97, 157]\n[98, 159]vs [98, 159]\n[100, 162]vs [100, 162]\n[101, 164]vs [101, 164]\n[103, 167]vs [103, 167]\n[105, 170]vs [105, 170]\n[106, 172]vs [106, 172]\n[108, 175]vs [108, 175]\n[110, 178]vs [110, 178]\n[111, 180]vs [111, 180]\n[113, 183]vs [113, 183]\n[114, 185]vs [114, 185]\n[116, 188]vs [116, 188]\n[118, 191]vs [118, 191]\n[119, 193]vs [119, 193]\n[121, 196]vs [121, 196]\n[122, 198]vs [122, 198]\n[124, 201]vs [124, 201]\n[126, 204]vs [126, 204]\n[127, 206]vs [127, 206]\n[129, 209]vs [129, 209]\n[131, 212]vs [131, 212]\n[132, 214]vs [132, 214]\n[134, 217]vs [134, 217]\n[135, 219]vs [135, 219]\n[137, 222]vs [137, 222]\n[139, 225]vs [139, 225]\n[140, 227]vs [140, 227]\n[142, 230]vs [142, 230]\n[144, 233]vs [144, 233]\n[145, 235]vs [145, 235]\n[147, 238]vs [147, 238]\n[148, 240]vs [148, 240]\n[150, 243]vs [150, 243]\n[152, 246]vs [152, 246]\n[153, 248]vs [153, 248]\n[155, 251]vs [155, 251]\n[156, 253]vs [156, 253]\n[158, 256]vs [158, 256]\n[160, 259]vs [160, 259]\n[161, 261]vs [161, 261]\n[163, 264]vs [163, 264]\n[165, 267]vs [165, 267]\n[166, 269]vs [166, 269]\n[168, 272]vs [168, 272]\n[169, 274]vs [169, 274]\n[171, 277]vs [171, 277]\n[173, 280]vs [173, 280]\n[174, 282]vs [174, 282]\n[176, 285]vs [176, 285]\n[177, 287]vs [177, 287]\n[179, 290]vs [179, 290]\n[181, 293]vs [181, 293]\n[182, 295]vs [182, 295]\n[184, 298]vs [184, 298]\n[186, 301]vs [186, 301]\n[187, 303]vs [187, 303]\n[189, 306]vs [189, 306]\n[190, 308]vs [190, 308]\n[192, 311]vs [192, 311]\n[194, 314]vs [194, 314]\n[195, 316]vs [195, 316]\n[197, 319]vs [197, 319]\n[199, 322]vs [199, 322]\n[200, 324]vs [200, 324]\n[202, 327]vs [202, 327]\n[203, 329]vs [203, 329]\n[205, 332]vs [205, 332]\n[207, 335]vs [207, 335]\n[208, 337]vs [208, 337]\n[210, 340]vs [210, 340]\n[211, 342]vs [211, 342]\n[213, 345]vs [213, 345]\n[215, 348]vs [215, 348]\n[216, 350]vs [216, 350]\n[218, 353]vs [218, 353]\n[220, 356]vs [220, 356]\n[221, 358]vs [221, 358]\n[223, 361]vs [223, 361]\n[224, 363]vs [224, 363]\n[226, 366]vs [226, 366]\n[228, 369]vs [228, 369]\n[229, 371]vs [229, 371]\n[231, 374]vs [231, 374]\n[232, 376]vs [232, 376]\n[234, 379]vs [234, 379]\n[236, 382]vs [236, 382]\n[237, 384]vs [237, 384]\n[239, 387]vs [239, 387]\n[241, 390]vs [241, 390]\n[242, 392]vs [242, 392]\n[244, 395]vs [244, 395]\n[245, 397]vs [245, 397]\n[247, 400]vs [247, 400]\n[249, 403]vs [249, 403]\n[250, 405]vs [250, 405]\n[252, 408]vs [252, 408]\n[254, 411]vs [254, 411]\n[255, 413]vs [255, 413]\n[257, 416]vs [257, 416]\n[258, 418]vs [258, 418]\n[260, 421]vs [260, 421]\n[262, 424]vs [262, 424]\n[263, 426]vs [263, 426]\n[265, 429]vs [265, 429]\n[266, 431]vs [266, 431]\n[268, 434]vs [268, 434]\n[270, 437]vs [270, 437]\n[271, 439]vs [271, 439]\n[273, 442]vs [273, 442]\n[275, 445]vs [275, 445]\n[276, 447]vs [276, 447]\n[278, 450]vs [278, 450]\n[279, 452]vs [279, 452]\n[281, 455]vs [281, 455]\n[283, 458]vs [283, 458]\n[284, 460]vs [284, 460]\n[286, 463]vs [286, 463]\n[288, 466]vs [288, 466]\n[289, 468]vs [289, 468]\n[291, 471]vs [291, 471]\n[292, 473]vs [292, 473]\n[294, 476]vs [294, 476]\n[296, 479]vs [296, 479]\n[297, 481]vs [297, 481]\n[299, 484]vs [299, 484]\n[300, 486]vs [300, 486]\n[302, 489]vs [302, 489]\n[304, 492]vs [304, 492]\n[305, 494]vs [305, 494]\n[307, 497]vs [307, 497]\n[309, 500]vs [309, 500]\n[310, 502]vs [310, 502]\n[312, 505]vs [312, 505]\n[313, 507]vs [313, 507]\n[315, 510]vs [315, 510]\n[317, 513]vs [317, 513]\n[318, 515]vs [318, 515]\n[320, 518]vs [320, 518]\n[321, 520]vs [321, 520]\n[323, 523]vs [323, 523]\n[325, 526]vs [325, 526]\n[326, 528]vs [326, 528]\n[328, 531]vs [328, 531]\n[330, 534]vs [330, 534]\n[331, 536]vs [331, 536]\n[333, 539]vs [333, 539]\n[334, 541]vs [334, 541]\n[336, 544]vs [336, 544]\n[338, 547]vs [338, 547]\n[339, 549]vs [339, 549]\n[341, 552]vs [341, 552]\n[343, 555]vs [343, 555]\n[344, 557]vs [344, 557]\n[346, 560]vs [346, 560]\n[347, 562]vs [347, 562]\n[349, 565]vs [349, 565]\n[351, 568]vs [351, 568]\n[352, 570]vs [352, 570]\n[354, 573]vs [354, 573]\n[355, 575]vs [355, 575]\n[357, 578]vs [357, 578]\n[359, 581]vs [359, 581]\n[360, 583]vs [360, 583]\n[362, 586]vs [362, 586]\n[364, 589]vs [364, 589]\n[365, 591]vs [365, 591]\n[367, 594]vs [367, 594]\n[368, 596]vs [368, 596]\n[370, 599]vs [370, 599]\n[372, 602]vs [372, 602]\n[373, 604]vs [373, 604]\n[375, 607]vs [375, 607]\n[377, 610]vs [377, 610]\n[378, 612]vs [378, 612]\n[380, 615]vs [380, 615]\n[381, 617]vs [381, 617]\n[383, 620]vs [383, 620]\n[385, 623]vs [385, 623]\n[386, 625]vs [386, 625]\n[388, 628]vs [388, 628]\n[389, 630]vs [389, 630]\n[391, 633]vs [391, 633]\n[393, 636]vs [393, 636]\n[394, 638]vs [394, 638]\n[396, 641]vs [396, 641]\n[398, 644]vs [398, 644]\n[399, 646]vs [399, 646]\n[401, 649]vs [401, 649]\n[402, 651]vs [402, 651]\n[404, 654]vs [404, 654]\n[406, 657]vs [406, 657]\n[407, 659]vs [407, 659]\n[409, 662]vs [409, 662]\n[410, 664]vs [410, 664]\n[412, 667]vs [412, 667]\n[414, 670]vs [414, 670]\n[415, 672]vs [415, 672]\n[417, 675]vs [417, 675]\n[419, 678]vs [419, 678]\n[420, 680]vs [420, 680]\n[422, 683]vs [422, 683]\n[423, 685]vs [423, 685]\n[425, 688]vs [425, 688]\n[427, 691]vs [427, 691]\n[428, 693]vs [428, 693]\n[430, 696]vs [430, 696]\n[432, 699]vs [432, 699]\n[433, 701]vs [433, 701]\n[435, 704]vs [435, 704]\n[436, 706]vs [436, 706]\n[438, 709]vs [438, 709]\n[440, 712]vs [440, 712]\n[441, 714]vs [441, 714]\n[443, 717]vs [443, 717]\n[444, 719]vs [444, 719]\n[446, 722]vs [446, 722]\n[448, 725]vs [448, 725]\n[449, 727]vs [449, 727]\n[451, 730]vs [451, 730]\n[453, 733]vs [453, 733]\n[454, 735]vs [454, 735]\n[456, 738]vs [456, 738]\n[457, 740]vs [457, 740]\n[459, 743]vs [459, 743]\n[461, 746]vs [461, 746]\n[462, 748]vs [462, 748]\n[464, 751]vs [464, 751]\n[465, 753]vs [465, 753]\n[467, 756]vs [467, 756]\n[469, 759]vs [469, 759]\n[470, 761]vs [470, 761]\n[472, 764]vs [472, 764]\n[474, 767]vs [474, 767]\n[475, 769]vs [475, 769]\n[477, 772]vs [477, 772]\n[478, 774]vs [478, 774]\n[480, 777]vs [480, 777]\n[482, 780]vs [482, 780]\n[483, 782]vs [483, 782]\n[485, 785]vs [485, 785]\n[487, 788]vs [487, 788]\n[488, 790]vs [488, 790]\n[490, 793]vs [490, 793]\n[491, 795]vs [491, 795]\n[493, 798]vs [493, 798]\n[495, 801]vs [495, 801]\n[496, 803]vs [496, 803]\n[498, 806]vs [498, 806]\n[499, 808]vs [499, 808]\n[501, 811]vs [501, 811]\n[503, 814]vs [503, 814]\n[504, 816]vs [504, 816]\n[506, 819]vs [506, 819]\n[508, 822]vs [508, 822]\n[509, 824]vs [509, 824]\n[511, 827]vs [511, 827]\n[512, 829]vs [512, 829]\n[514, 832]vs [514, 832]\n[516, 835]vs [516, 835]\n[517, 837]vs [517, 837]\n[519, 840]vs [519, 840]\n[521, 843]vs [521, 843]\n[522, 845]vs [522, 845]\n[524, 848]vs [524, 848]\n[525, 850]vs [525, 850]\n[527, 853]vs [527, 853]\n[529, 856]vs [529, 856]\n[530, 858]vs [530, 858]\n[532, 861]vs [532, 861]\n[533, 863]vs [533, 863]\n[535, 866]vs [535, 866]\n[537, 869]vs [537, 869]\n[538, 871]vs [538, 871]\n[540, 874]vs [540, 874]\n[542, 877]vs [542, 877]\n[543, 879]vs [543, 879]\n[545, 882]vs [545, 882]\n[546, 884]vs [546, 884]\n[548, 887]vs [548, 887]\n[550, 890]vs [550, 890]\n[551, 892]vs [551, 892]\n[553, 895]vs [553, 895]\n[554, 897]vs [554, 897]\n[556, 900]vs [556, 900]\n[558, 903]vs [558, 903]\n[559, 905]vs [559, 905]\n[561, 908]vs [561, 908]\n[563, 911]vs [563, 911]\n[564, 913]vs [564, 913]\n[566, 916]vs [566, 916]\n[567, 918]vs [567, 918]\n[569, 921]vs [569, 921]\n[571, 924]vs [571, 924]\n[572, 926]vs [572, 926]\n[574, 929]vs [574, 929]\n[576, 932]vs [576, 932]\n[577, 934]vs [577, 934]\n[579, 937]vs [579, 937]\n[580, 939]vs [580, 939]\n[582, 942]vs [582, 942]\n[584, 945]vs [584, 945]\n[585, 947]vs [585, 947]\n[587, 950]vs [587, 950]\n[588, 952]vs [588, 952]\n[590, 955]vs [590, 955]\n[592, 958]vs [592, 958]\n[593, 960]vs [593, 960]\n[595, 963]vs [595, 963]\n[597, 966]vs [597, 966]\n[598, 968]vs [598, 968]\n[600, 971]vs [600, 971]\n[601, 973]vs [601, 973]\n[603, 976]vs [603, 976]\n[605, 979]vs [605, 979]\n[606, 981]vs [606, 981]\n[608, 984]vs [608, 984]\n[609, 986]vs [609, 986]\n[611, 989]vs [611, 989]\n[613, 992]vs [613, 992]\n[614, 994]vs [614, 994]\n[616, 997]vs [616, 997]\n"
     ]
    }
   ],
   "source": [
    "for i in range(len(pseudoWins2)):\n",
    "    print(str(pseudoWins2[i]) + \"vs \" + str(winList[i]))\n",
    "    if not pseudoWins2[i][0] == winList[i][0] or not pseudoWins2[i][1] == winList[i][1]:\n",
    "        print(\"failure at: \" + str(pseudoWins2[i]) + \"vs \" + str(winList[i]))"
   ]
  },
  {
   "cell_type": "code",
   "execution_count": null,
   "metadata": {},
   "outputs": [],
   "source": []
  }
 ],
 "metadata": {
  "kernelspec": {
   "display_name": "Python 2",
   "language": "python",
   "name": "python2"
  },
  "language_info": {
   "codemirror_mode": {
    "name": "ipython",
    "version": 2
   },
   "file_extension": ".py",
   "mimetype": "text/x-python",
   "name": "python",
   "nbconvert_exporter": "python",
   "pygments_lexer": "ipython2",
   "version": "2.7.6"
  }
 },
 "nbformat": 4,
 "nbformat_minor": 0
}
